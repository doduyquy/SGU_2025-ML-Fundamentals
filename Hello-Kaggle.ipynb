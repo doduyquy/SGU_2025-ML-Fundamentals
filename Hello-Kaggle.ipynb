{
 "cells": [
  {
   "cell_type": "markdown",
   "id": "57651af4",
   "metadata": {
    "papermill": {
     "duration": 0.002625,
     "end_time": "2025-09-14T15:14:41.961087",
     "exception": false,
     "start_time": "2025-09-14T15:14:41.958462",
     "status": "completed"
    },
    "tags": []
   },
   "source": [
    "# Run from another file"
   ]
  },
  {
   "cell_type": "code",
   "execution_count": 2,
   "id": "bdbf7037",
   "metadata": {
    "collapsed": true,
    "execution": {
     "iopub.execute_input": "2025-09-14T15:14:41.966886Z",
     "iopub.status.busy": "2025-09-14T15:14:41.966545Z",
     "iopub.status.idle": "2025-09-14T15:14:41.981716Z",
     "shell.execute_reply": "2025-09-14T15:14:41.980741Z"
    },
    "jupyter": {
     "outputs_hidden": true
    },
    "papermill": {
     "duration": 0.019801,
     "end_time": "2025-09-14T15:14:41.983365",
     "exception": false,
     "start_time": "2025-09-14T15:14:41.963564",
     "status": "completed"
    },
    "tags": []
   },
   "outputs": [
    {
     "name": "stdout",
     "output_type": "stream",
     "text": [
      "Testing\n"
     ]
    }
   ],
   "source": [
    "# Import trực tiếp bằng exec():\n",
    "file_path = \"./testing.py\"\n",
    "exec(open(file_path).read())"
   ]
  },
  {
   "cell_type": "code",
   "execution_count": 3,
   "id": "8b169eec",
   "metadata": {
    "collapsed": true,
    "execution": {
     "iopub.execute_input": "2025-09-14T15:14:41.988941Z",
     "iopub.status.busy": "2025-09-14T15:14:41.988650Z",
     "iopub.status.idle": "2025-09-14T15:14:41.997537Z",
     "shell.execute_reply": "2025-09-14T15:14:41.996703Z"
    },
    "jupyter": {
     "outputs_hidden": true
    },
    "papermill": {
     "duration": 0.013277,
     "end_time": "2025-09-14T15:14:41.999050",
     "exception": false,
     "start_time": "2025-09-14T15:14:41.985773",
     "status": "completed"
    },
    "tags": []
   },
   "outputs": [
    {
     "name": "stdout",
     "output_type": "stream",
     "text": [
      "Testing\n"
     ]
    }
   ],
   "source": [
    "# Run as a module: \n",
    "import sys\n",
    "# Add dataset's path to sys.path to import\n",
    "sys.path.append(\"./testing\")\n",
    "\n",
    "import testing\n",
    "# Call function from file testing.py"
   ]
  },
  {
   "cell_type": "code",
   "execution_count": 4,
   "id": "52a9edd9",
   "metadata": {
    "collapsed": true,
    "execution": {
     "iopub.execute_input": "2025-09-14T15:14:42.004760Z",
     "iopub.status.busy": "2025-09-14T15:14:42.004451Z",
     "iopub.status.idle": "2025-09-14T15:14:42.248012Z",
     "shell.execute_reply": "2025-09-14T15:14:42.246919Z"
    },
    "jupyter": {
     "outputs_hidden": true
    },
    "papermill": {
     "duration": 0.248398,
     "end_time": "2025-09-14T15:14:42.249798",
     "exception": false,
     "start_time": "2025-09-14T15:14:42.001400",
     "status": "completed"
    },
    "tags": []
   },
   "outputs": [
    {
     "name": "stdout",
     "output_type": "stream",
     "text": [
      "Testing\n"
     ]
    }
   ],
   "source": [
    "# Run by '!python'\n",
    "!python ./testing.py"
   ]
  },
  {
   "cell_type": "code",
   "execution_count": null,
   "id": "1b0039c6",
   "metadata": {
    "collapsed": true,
    "jupyter": {
     "outputs_hidden": true
    },
    "papermill": {
     "duration": 0.002119,
     "end_time": "2025-09-14T15:14:42.254313",
     "exception": false,
     "start_time": "2025-09-14T15:14:42.252194",
     "status": "completed"
    },
    "tags": []
   },
   "outputs": [],
   "source": []
  },
  {
   "cell_type": "code",
   "execution_count": null,
   "id": "b7ea65a4",
   "metadata": {
    "collapsed": true,
    "jupyter": {
     "outputs_hidden": true
    },
    "papermill": {
     "duration": 0.001966,
     "end_time": "2025-09-14T15:14:42.258456",
     "exception": false,
     "start_time": "2025-09-14T15:14:42.256490",
     "status": "completed"
    },
    "tags": []
   },
   "outputs": [],
   "source": []
  },
  {
   "cell_type": "markdown",
   "id": "abe12a99",
   "metadata": {},
   "source": [
    "## **The end**"
   ]
  }
 ],
 "metadata": {
  "kaggle": {
   "accelerator": "none",
   "dataSources": [
    {
     "datasetId": 8268338,
     "sourceId": 13056987,
     "sourceType": "datasetVersion"
    }
   ],
   "dockerImageVersionId": 31089,
   "isGpuEnabled": false,
   "isInternetEnabled": true,
   "language": "python",
   "sourceType": "notebook"
  },
  "kernelspec": {
   "display_name": "venv_sgu_ml_2025",
   "language": "python",
   "name": "python3"
  },
  "language_info": {
   "codemirror_mode": {
    "name": "ipython",
    "version": 3
   },
   "file_extension": ".py",
   "mimetype": "text/x-python",
   "name": "python",
   "nbconvert_exporter": "python",
   "pygments_lexer": "ipython3",
   "version": "3.12.3"
  },
  "papermill": {
   "default_parameters": {},
   "duration": 7.853837,
   "end_time": "2025-09-14T15:14:44.558552",
   "environment_variables": {},
   "exception": null,
   "input_path": "__notebook__.ipynb",
   "output_path": "__notebook__.ipynb",
   "parameters": {},
   "start_time": "2025-09-14T15:14:36.704715",
   "version": "2.6.0"
  }
 },
 "nbformat": 4,
 "nbformat_minor": 5
}
