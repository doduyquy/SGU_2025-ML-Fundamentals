{
 "cells": [
  {
   "cell_type": "markdown",
   "id": "57651af4",
   "metadata": {
    "papermill": {
     "duration": 0.002625,
     "end_time": "2025-09-14T15:14:41.961087",
     "exception": false,
     "start_time": "2025-09-14T15:14:41.958462",
     "status": "completed"
    },
    "tags": []
   },
   "source": [
    "# Run from another file"
   ]
  },
  {
   "cell_type": "code",
   "execution_count": 1,
   "id": "bdbf7037",
   "metadata": {
    "collapsed": true,
    "execution": {
     "iopub.execute_input": "2025-09-14T15:14:41.966886Z",
     "iopub.status.busy": "2025-09-14T15:14:41.966545Z",
     "iopub.status.idle": "2025-09-14T15:14:41.981716Z",
     "shell.execute_reply": "2025-09-14T15:14:41.980741Z"
    },
    "jupyter": {
     "outputs_hidden": true
    },
    "papermill": {
     "duration": 0.019801,
     "end_time": "2025-09-14T15:14:41.983365",
     "exception": false,
     "start_time": "2025-09-14T15:14:41.963564",
     "status": "completed"
    },
    "tags": []
   },
   "outputs": [
    {
     "name": "stdout",
     "output_type": "stream",
     "text": [
      "Testing\n"
     ]
    }
   ],
   "source": [
    "# Import trực tiếp bằng exec():\n",
    "file_path = \"/kaggle/input/testing/testing.py\"\n",
    "exec(open(file_path).read())"
   ]
  },
  {
   "cell_type": "code",
   "execution_count": 2,
   "id": "8b169eec",
   "metadata": {
    "collapsed": true,
    "execution": {
     "iopub.execute_input": "2025-09-14T15:14:41.988941Z",
     "iopub.status.busy": "2025-09-14T15:14:41.988650Z",
     "iopub.status.idle": "2025-09-14T15:14:41.997537Z",
     "shell.execute_reply": "2025-09-14T15:14:41.996703Z"
    },
    "jupyter": {
     "outputs_hidden": true
    },
    "papermill": {
     "duration": 0.013277,
     "end_time": "2025-09-14T15:14:41.999050",
     "exception": false,
     "start_time": "2025-09-14T15:14:41.985773",
     "status": "completed"
    },
    "tags": []
   },
   "outputs": [
    {
     "name": "stdout",
     "output_type": "stream",
     "text": [
      "Testing\n"
     ]
    }
   ],
   "source": [
    "# Run as a module: \n",
    "import sys\n",
    "# Add dataset's path to sys.path to import\n",
    "sys.path.append(\"/kaggle/input/testing\")\n",
    "\n",
    "import testing\n",
    "# Call function from file testing.py"
   ]
  },
  {
   "cell_type": "code",
   "execution_count": 3,
   "id": "52a9edd9",
   "metadata": {
    "collapsed": true,
    "execution": {
     "iopub.execute_input": "2025-09-14T15:14:42.004760Z",
     "iopub.status.busy": "2025-09-14T15:14:42.004451Z",
     "iopub.status.idle": "2025-09-14T15:14:42.248012Z",
     "shell.execute_reply": "2025-09-14T15:14:42.246919Z"
    },
    "jupyter": {
     "outputs_hidden": true
    },
    "papermill": {
     "duration": 0.248398,
     "end_time": "2025-09-14T15:14:42.249798",
     "exception": false,
     "start_time": "2025-09-14T15:14:42.001400",
     "status": "completed"
    },
    "tags": []
   },
   "outputs": [
    {
     "name": "stdout",
     "output_type": "stream",
     "text": [
      "Testing\r\n"
     ]
    }
   ],
   "source": [
    "# Run by '!python'\n",
    "!python /kaggle/input/testing/testing.py"
   ]
  },
  {
   "cell_type": "code",
   "execution_count": null,
   "id": "1b0039c6",
   "metadata": {
    "collapsed": true,
    "jupyter": {
     "outputs_hidden": true
    },
    "papermill": {
     "duration": 0.002119,
     "end_time": "2025-09-14T15:14:42.254313",
     "exception": false,
     "start_time": "2025-09-14T15:14:42.252194",
     "status": "completed"
    },
    "tags": []
   },
   "outputs": [],
   "source": []
  },
  {
   "cell_type": "code",
   "execution_count": null,
   "id": "b7ea65a4",
   "metadata": {
    "collapsed": true,
    "jupyter": {
     "outputs_hidden": true
    },
    "papermill": {
     "duration": 0.001966,
     "end_time": "2025-09-14T15:14:42.258456",
     "exception": false,
     "start_time": "2025-09-14T15:14:42.256490",
     "status": "completed"
    },
    "tags": []
   },
   "outputs": [],
   "source": []
  },
  {
   "cell_type": "code",
   "execution_count": 4,
   "id": "56d3d2b4",
   "metadata": {
    "_cell_guid": "b1076dfc-b9ad-4769-8c92-a6c4dae69d19",
    "_uuid": "8f2839f25d086af736a60e9eeb907d3b93b6e0e5",
    "collapsed": true,
    "execution": {
     "iopub.execute_input": "2025-09-14T15:14:42.264345Z",
     "iopub.status.busy": "2025-09-14T15:14:42.264016Z",
     "iopub.status.idle": "2025-09-14T15:14:44.035973Z",
     "shell.execute_reply": "2025-09-14T15:14:44.034854Z"
    },
    "jupyter": {
     "outputs_hidden": true
    },
    "papermill": {
     "duration": 1.776946,
     "end_time": "2025-09-14T15:14:44.037486",
     "exception": false,
     "start_time": "2025-09-14T15:14:42.260540",
     "status": "completed"
    },
    "tags": []
   },
   "outputs": [
    {
     "name": "stdout",
     "output_type": "stream",
     "text": [
      "/kaggle/input/testing/testing.py\n"
     ]
    }
   ],
   "source": [
    "# This Python 3 environment comes with many helpful analytics libraries installed\n",
    "# It is defined by the kaggle/python Docker image: https://github.com/kaggle/docker-python\n",
    "# For example, here's several helpful packages to load\n",
    "\n",
    "import numpy as np # linear algebra\n",
    "import pandas as pd # data processing, CSV file I/O (e.g. pd.read_csv)\n",
    "\n",
    "# Input data files are available in the read-only \"../input/\" directory\n",
    "# For example, running this (by clicking run or pressing Shift+Enter) will list all files under the input directory\n",
    "\n",
    "import os\n",
    "for dirname, _, filenames in os.walk('/kaggle/input'):\n",
    "    for filename in filenames:\n",
    "        print(os.path.join(dirname, filename))\n",
    "\n",
    "# You can write up to 20GB to the current directory (/kaggle/working/) that gets preserved as output when you create a version using \"Save & Run All\" \n",
    "# You can also write temporary files to /kaggle/temp/, but they won't be saved outside of the current session"
   ]
  }
 ],
 "metadata": {
  "kaggle": {
   "accelerator": "none",
   "dataSources": [
    {
     "datasetId": 8268338,
     "sourceId": 13056987,
     "sourceType": "datasetVersion"
    }
   ],
   "dockerImageVersionId": 31089,
   "isGpuEnabled": false,
   "isInternetEnabled": true,
   "language": "python",
   "sourceType": "notebook"
  },
  "kernelspec": {
   "display_name": "Python 3",
   "language": "python",
   "name": "python3"
  },
  "language_info": {
   "codemirror_mode": {
    "name": "ipython",
    "version": 3
   },
   "file_extension": ".py",
   "mimetype": "text/x-python",
   "name": "python",
   "nbconvert_exporter": "python",
   "pygments_lexer": "ipython3",
   "version": "3.11.13"
  },
  "papermill": {
   "default_parameters": {},
   "duration": 7.853837,
   "end_time": "2025-09-14T15:14:44.558552",
   "environment_variables": {},
   "exception": null,
   "input_path": "__notebook__.ipynb",
   "output_path": "__notebook__.ipynb",
   "parameters": {},
   "start_time": "2025-09-14T15:14:36.704715",
   "version": "2.6.0"
  }
 },
 "nbformat": 4,
 "nbformat_minor": 5
}
