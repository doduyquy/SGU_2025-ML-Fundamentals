{
 "cells": [
  {
   "cell_type": "markdown",
   "id": "9772a3b5",
   "metadata": {},
   "source": [
    "### Run calc_sum from ex1_calc.py"
   ]
  },
  {
   "cell_type": "code",
   "execution_count": 13,
   "id": "288e3d2e",
   "metadata": {},
   "outputs": [],
   "source": [
    "FILE_PATH = \"./ex1_calc.py\""
   ]
  },
  {
   "cell_type": "markdown",
   "id": "bdf287ab",
   "metadata": {},
   "source": [
    "1. Direct: exec()"
   ]
  },
  {
   "cell_type": "code",
   "execution_count": 14,
   "id": "e8b1cbf0",
   "metadata": {},
   "outputs": [
    {
     "name": "stdout",
     "output_type": "stream",
     "text": [
      "c = -1 + 8 = 7\n"
     ]
    }
   ],
   "source": [
    "exec(open(file=FILE_PATH).read())"
   ]
  },
  {
   "cell_type": "markdown",
   "id": "7a973e5c",
   "metadata": {},
   "source": [
    "2. Run as a module:"
   ]
  },
  {
   "cell_type": "code",
   "execution_count": 15,
   "id": "bdf6943e",
   "metadata": {},
   "outputs": [
    {
     "name": "stdout",
     "output_type": "stream",
     "text": [
      "c = 2 + 6 = 8\n"
     ]
    }
   ],
   "source": [
    "# Add module path to sys.path for import\n",
    "import sys\n",
    "sys.path.append(FILE_PATH)\n",
    "\n",
    "# Import and call function\n",
    "import ex1_calc\n",
    "ex1_calc.calc_sum()"
   ]
  },
  {
   "cell_type": "markdown",
   "id": "ca10a8a6",
   "metadata": {},
   "source": [
    "3. Run by *`!python` | `%run`*"
   ]
  },
  {
   "cell_type": "code",
   "execution_count": 17,
   "id": "8e9173d8",
   "metadata": {},
   "outputs": [
    {
     "name": "stdout",
     "output_type": "stream",
     "text": [
      "c = 64 + 36 = 100\n"
     ]
    }
   ],
   "source": [
    "%run ./ex1_calc.py"
   ]
  }
 ],
 "metadata": {
  "kernelspec": {
   "display_name": "venv_sgu_ml_2025",
   "language": "python",
   "name": "python3"
  },
  "language_info": {
   "codemirror_mode": {
    "name": "ipython",
    "version": 3
   },
   "file_extension": ".py",
   "mimetype": "text/x-python",
   "name": "python",
   "nbconvert_exporter": "python",
   "pygments_lexer": "ipython3",
   "version": "3.12.3"
  }
 },
 "nbformat": 4,
 "nbformat_minor": 5
}
